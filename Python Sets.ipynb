{
 "cells": [
  {
   "cell_type": "markdown",
   "id": "existing-tobacco",
   "metadata": {},
   "source": [
    "# Sets"
   ]
  },
  {
   "cell_type": "markdown",
   "id": "peaceful-prairie",
   "metadata": {},
   "source": [
    "##### Sets are used to store multiple items in a single variable"
   ]
  },
  {
   "cell_type": "markdown",
   "id": "pressing-cocktail",
   "metadata": {},
   "source": [
    "##### Sets are written with curly brackets."
   ]
  },
  {
   "cell_type": "code",
   "execution_count": 39,
   "id": "mexican-reader",
   "metadata": {},
   "outputs": [],
   "source": [
    "#Create a set\n",
    "#Set items are unordered, unchangeable, and do not allow duplicate values\n",
    "#String, int and boolean data types are allowed\n",
    "\n",
    "set_fruits = {\"apple\", \"pear\", \"avocado\", \"banana\", \"peach\", \"pineapple\", \"strawberry\", \"orange\", \"kiwi\", \"melon\"}\n",
    "set_nums = {0, 1, 2, 3, 4, 5, 6, 7, 8, 9}\n",
    "set_chars = {\"a\", \"b\", \"c\", \"A\", \"B\", \"C\", \"D\", \"1\", \"2\", \"3\"}\n",
    "set_mixed = {\"a\", \"b\", \"c\", \"A\", \"B\", \"C\", 0, 1, 2, \"apple\"}\n",
    "set_bool = {True, False, False,True}"
   ]
  },
  {
   "cell_type": "code",
   "execution_count": 11,
   "id": "settled-english",
   "metadata": {},
   "outputs": [
    {
     "name": "stdout",
     "output_type": "stream",
     "text": [
      "{'orange', 'avocado', 'strawberry', 'melon', 'banana', 'kiwi', 'apple', 'pineapple', 'peach', 'pear'}\n",
      "{False, True}\n"
     ]
    }
   ],
   "source": [
    "# Duplicate values will be ignored\n",
    "# Set items can appear in a different order every time you use them, and cannot be referred to by index or key.\n",
    "print(set_fruits)\n",
    "print(set_bool)"
   ]
  },
  {
   "cell_type": "code",
   "execution_count": 4,
   "id": "bigger-tenant",
   "metadata": {},
   "outputs": [
    {
     "data": {
      "text/plain": [
       "set"
      ]
     },
     "execution_count": 4,
     "metadata": {},
     "output_type": "execute_result"
    }
   ],
   "source": [
    "type(set_fruits)"
   ]
  },
  {
   "cell_type": "code",
   "execution_count": 14,
   "id": "sunset-arena",
   "metadata": {},
   "outputs": [
    {
     "name": "stdout",
     "output_type": "stream",
     "text": [
      "10\n",
      "2\n"
     ]
    }
   ],
   "source": [
    "print(len(set_fruits))\n",
    "print(len(set_bool))"
   ]
  },
  {
   "cell_type": "code",
   "execution_count": 16,
   "id": "neural-segment",
   "metadata": {},
   "outputs": [
    {
     "name": "stdout",
     "output_type": "stream",
     "text": [
      "Enter fruit name to check in list: apple\n",
      "apple  is in the fruits list\n"
     ]
    }
   ],
   "source": [
    "# Check if Item Exists\n",
    "fruit = input(\"Enter fruit name to check in set: \")\n",
    "fruit_lower = fruit.lower()\n",
    "if fruit_lower in set_fruits:\n",
    "  print(fruit_lower, \" is in the fruits set\")\n",
    "else:\n",
    "  print(fruit_lower, \" is not in the fruits set\")"
   ]
  },
  {
   "cell_type": "code",
   "execution_count": 32,
   "id": "enclosed-russian",
   "metadata": {},
   "outputs": [
    {
     "name": "stdout",
     "output_type": "stream",
     "text": [
      "['papaya', 'pear', 'avocado', 'banana', 'peach', 'pineapple', 'strawberry', 'orange', 'kiwi', 'melon']\n"
     ]
    }
   ],
   "source": [
    "# Access set items\n",
    "for x in set_fruits:\n",
    "  print(x)"
   ]
  },
  {
   "cell_type": "code",
   "execution_count": 17,
   "id": "prostate-simple",
   "metadata": {},
   "outputs": [
    {
     "name": "stdout",
     "output_type": "stream",
     "text": [
      "True\n"
     ]
    }
   ],
   "source": [
    "# Check if \"banana\" is present in the set\n",
    "print(\"banana\" in set_fruits)"
   ]
  },
  {
   "cell_type": "code",
   "execution_count": 20,
   "id": "funky-inventory",
   "metadata": {},
   "outputs": [
    {
     "name": "stdout",
     "output_type": "stream",
     "text": [
      "{'orange', 'avocado', 'strawberry', 'melon', 'banana', 'kiwi', 'apple', 'pineapple', 'peach', 'pear'}\n",
      "{'orange', 'avocado', 'strawberry', 'melon', 'banana', 'apple', 'pineapple', 'peach', 'pear'}\n",
      "{'orange', 'avocado', 'strawberry', 'melon', 'banana', 'apple', 'peach', 'pear'}\n"
     ]
    }
   ],
   "source": [
    "# Remove Item - use remove() or discard()\n",
    "print(set_fruits)\n",
    "set_fruits.remove(\"kiwi\")\n",
    "print(set_fruits)\n",
    "set_fruits.discard(\"pineapple\")\n",
    "print(set_fruits)"
   ]
  },
  {
   "cell_type": "code",
   "execution_count": 21,
   "id": "computational-tender",
   "metadata": {},
   "outputs": [
    {
     "data": {
      "text/plain": [
       "'orange'"
      ]
     },
     "execution_count": 21,
     "metadata": {},
     "output_type": "execute_result"
    }
   ],
   "source": [
    "# Remove the last item\n",
    "set_fruits.pop()"
   ]
  },
  {
   "cell_type": "code",
   "execution_count": 22,
   "id": "median-keyboard",
   "metadata": {},
   "outputs": [
    {
     "name": "stdout",
     "output_type": "stream",
     "text": [
      "set()\n"
     ]
    }
   ],
   "source": [
    "# Empty  the set\n",
    "set_fruits.clear()\n",
    "print(set_fruits)"
   ]
  },
  {
   "cell_type": "code",
   "execution_count": 25,
   "id": "seventh-homeless",
   "metadata": {},
   "outputs": [],
   "source": [
    "set_fruits = {\"apple\", \"pear\", \"avocado\", \"banana\", \"peach\", \"pineapple\", \"strawberry\", \"orange\", \"kiwi\", \"melon\"}"
   ]
  },
  {
   "cell_type": "code",
   "execution_count": 26,
   "id": "exclusive-yesterday",
   "metadata": {},
   "outputs": [
    {
     "name": "stdout",
     "output_type": "stream",
     "text": [
      "orange\n",
      "avocado\n",
      "strawberry\n",
      "melon\n",
      "banana\n",
      "kiwi\n",
      "apple\n",
      "pineapple\n",
      "peach\n",
      "pear\n"
     ]
    },
    {
     "data": {
      "text/plain": [
       "[None, None, None, None, None, None, None, None, None, None]"
      ]
     },
     "execution_count": 26,
     "metadata": {},
     "output_type": "execute_result"
    }
   ],
   "source": [
    "#short loop statement will print all items in a set\n",
    "# new_set = [x for x in existing_set]\n",
    "[print(x) for x in set_fruits]"
   ]
  },
  {
   "cell_type": "markdown",
   "id": "unauthorized-works",
   "metadata": {},
   "source": [
    "#### Join Sets"
   ]
  },
  {
   "cell_type": "code",
   "execution_count": 40,
   "id": "collective-brass",
   "metadata": {},
   "outputs": [
    {
     "name": "stdout",
     "output_type": "stream",
     "text": [
      "{0, 1, 2, 3, 4, 5, 6, 7, 8, 9, 'B', 'A', 'c', 'C', 'a', 'D', '3', '2', 'b', '1'}\n"
     ]
    }
   ],
   "source": [
    "#union() returns a new set with all items from both sets\n",
    "set_join = set_nums.union(set_chars)\n",
    "print(set_join)"
   ]
  },
  {
   "cell_type": "code",
   "execution_count": 41,
   "id": "scheduled-production",
   "metadata": {},
   "outputs": [
    {
     "name": "stdout",
     "output_type": "stream",
     "text": [
      "{0, 1, 2, 3, 4, 5, 6, 7, 8, 9, 'B', 'A', 'c', 'C', 'a', 'D', '3', '2', 'b', '1', 'apple'}\n"
     ]
    }
   ],
   "source": [
    "# update() method inserts the items in set_mixed into set_join\n",
    "set_join.update(set_mixed)\n",
    "print(set_join)"
   ]
  },
  {
   "cell_type": "code",
   "execution_count": 42,
   "id": "industrial-president",
   "metadata": {},
   "outputs": [
    {
     "name": "stdout",
     "output_type": "stream",
     "text": [
      "{0, 1, 2, 'B', 'A', 'b', 'c', 'C', 'apple', 'a'}\n"
     ]
    }
   ],
   "source": [
    "# Keep the items that exist in both sets\n",
    "set_join.intersection_update(set_mixed)\n",
    "print(set_join)"
   ]
  },
  {
   "cell_type": "code",
   "execution_count": 43,
   "id": "plastic-teddy",
   "metadata": {},
   "outputs": [
    {
     "name": "stdout",
     "output_type": "stream",
     "text": [
      "{0, 1, 'D', '3', '2', 2, '1', 'apple'}\n"
     ]
    }
   ],
   "source": [
    "# Elements that are NOT present in both sets will return into a new set\n",
    "set_uni = set_mixed.symmetric_difference(set_chars)\n",
    "print(set_uni)"
   ]
  },
  {
   "cell_type": "code",
   "execution_count": null,
   "id": "english-composition",
   "metadata": {},
   "outputs": [],
   "source": []
  }
 ],
 "metadata": {
  "kernelspec": {
   "display_name": "Python 3",
   "language": "python",
   "name": "python3"
  },
  "language_info": {
   "codemirror_mode": {
    "name": "ipython",
    "version": 3
   },
   "file_extension": ".py",
   "mimetype": "text/x-python",
   "name": "python",
   "nbconvert_exporter": "python",
   "pygments_lexer": "ipython3",
   "version": "3.9.1"
  }
 },
 "nbformat": 4,
 "nbformat_minor": 5
}
