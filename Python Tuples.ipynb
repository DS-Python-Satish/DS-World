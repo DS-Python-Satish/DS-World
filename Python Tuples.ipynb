{
 "cells": [
  {
   "cell_type": "markdown",
   "id": "faced-apparatus",
   "metadata": {},
   "source": [
    "# Tuples"
   ]
  },
  {
   "cell_type": "markdown",
   "id": "adolescent-coaching",
   "metadata": {},
   "source": [
    "##### Tuples are used to store multiple items in a single variable."
   ]
  },
  {
   "cell_type": "code",
   "execution_count": 2,
   "id": "sporting-template",
   "metadata": {},
   "outputs": [],
   "source": [
    "#Create a Tuple\n",
    "#Note: Tuple items are ordered, unchangeable, and allow duplicate values \n",
    "tuple_fruits = (\"apple\", \"pear\", \"avocado\", \"banana\", \"peach\", \"pineapple\", \"strawberry\", \"orange\", \"kiwi\", \"melon\")\n",
    "tuple_nums = (0, 1, 2, 3, 4, 5, 6, 7, 8, 9)\n",
    "tuple_chars = (\"a\", \"b\", \"c\", \"A\", \"B\", \"C\", \"D\", \"1\", \"2\", \"3\")\n",
    "tuple_mixed = (\"a\", \"b\", \"c\", \"A\", \"B\", \"C\", 0, 1, 2, \"apple\")"
   ]
  },
  {
   "cell_type": "code",
   "execution_count": 45,
   "id": "general-advertiser",
   "metadata": {},
   "outputs": [
    {
     "data": {
      "text/plain": [
       "tuple"
      ]
     },
     "execution_count": 45,
     "metadata": {},
     "output_type": "execute_result"
    }
   ],
   "source": [
    "type(tuple_chars)"
   ]
  },
  {
   "cell_type": "code",
   "execution_count": 46,
   "id": "invalid-creator",
   "metadata": {},
   "outputs": [
    {
     "data": {
      "text/plain": [
       "10"
      ]
     },
     "execution_count": 46,
     "metadata": {},
     "output_type": "execute_result"
    }
   ],
   "source": [
    "len(tuple_fruits)"
   ]
  },
  {
   "cell_type": "code",
   "execution_count": 53,
   "id": "dressed-trader",
   "metadata": {},
   "outputs": [
    {
     "name": "stdout",
     "output_type": "stream",
     "text": [
      "first item:apple \n",
      "last item :melon\n"
     ]
    }
   ],
   "source": [
    "# Print the first item & last item in the tuple\n",
    "n = len(tuple_fruits)-1 \n",
    "print(\"first item:{one} \\nlast item :{last}\".format(one=tuple_fruits[0],last=tuple_fruits[n]))"
   ]
  },
  {
   "cell_type": "code",
   "execution_count": 63,
   "id": "hybrid-raleigh",
   "metadata": {},
   "outputs": [
    {
     "name": "stdout",
     "output_type": "stream",
     "text": [
      "Last Item:  melon\n"
     ]
    }
   ],
   "source": [
    "#Negative Indexing\n",
    "#Negative indexing start from the end, that means -1 refers to the last item, -2 refers to the second last item etc.\n",
    "print(\"Last Item: \", tuple_fruits[-1])"
   ]
  },
  {
   "cell_type": "code",
   "execution_count": 64,
   "id": "infectious-darwin",
   "metadata": {},
   "outputs": [
    {
     "name": "stdout",
     "output_type": "stream",
     "text": [
      "('pear', 'avocado', 'banana', 'plum', 'pineapple')\n"
     ]
    }
   ],
   "source": [
    "# Range of Index (start at index 1  and end at index 5 (6 is not included))\n",
    "print(tuple_fruits[1:6])"
   ]
  },
  {
   "cell_type": "code",
   "execution_count": 65,
   "id": "liquid-desert",
   "metadata": {},
   "outputs": [
    {
     "name": "stdout",
     "output_type": "stream",
     "text": [
      "('banana', 'plum', 'pineapple', 'strawberry', 'orange', 'kiwi', 'melon')\n"
     ]
    }
   ],
   "source": [
    "# returns the items from index 3 till to the end\n",
    "print(tuple_fruits[3:])"
   ]
  },
  {
   "cell_type": "code",
   "execution_count": 66,
   "id": "cosmetic-deposit",
   "metadata": {},
   "outputs": [
    {
     "name": "stdout",
     "output_type": "stream",
     "text": [
      "('apple', 'pear', 'avocado')\n"
     ]
    }
   ],
   "source": [
    "# returns the items from index 0 and till index 2\n",
    "print(tuple_fruits[:3])"
   ]
  },
  {
   "cell_type": "code",
   "execution_count": 84,
   "id": "optimum-mobile",
   "metadata": {},
   "outputs": [
    {
     "name": "stdout",
     "output_type": "stream",
     "text": [
      "Enter fruit name to check in list: apple\n",
      "apple  is in the fruits tuple\n"
     ]
    }
   ],
   "source": [
    "# Check if Item Exists\n",
    "fruit = input(\"Enter fruit name to check in tuple: \")\n",
    "fruit_lower = fruit.lower()\n",
    "if fruit_lower in tuple_fruits:\n",
    "  print(fruit, \" is in the fruits tuple\")\n",
    "else:\n",
    "  print(fruit, \" is not in the fruits tuple\")"
   ]
  },
  {
   "cell_type": "code",
   "execution_count": 82,
   "id": "educational-activation",
   "metadata": {},
   "outputs": [
    {
     "ename": "TypeError",
     "evalue": "'tuple' object does not support item assignment",
     "output_type": "error",
     "traceback": [
      "\u001b[1;31m---------------------------------------------------------------------------\u001b[0m",
      "\u001b[1;31mTypeError\u001b[0m                                 Traceback (most recent call last)",
      "\u001b[1;32m<ipython-input-82-0467223ae376>\u001b[0m in \u001b[0;36m<module>\u001b[1;34m\u001b[0m\n\u001b[0;32m      1\u001b[0m \u001b[1;31m# Tuples are immutable, that means you cannot change, add, or remove items once the tuple is created.\u001b[0m\u001b[1;33m\u001b[0m\u001b[1;33m\u001b[0m\u001b[1;33m\u001b[0m\u001b[0m\n\u001b[1;32m----> 2\u001b[1;33m \u001b[0mtuple_fruits\u001b[0m\u001b[1;33m[\u001b[0m\u001b[1;36m4\u001b[0m\u001b[1;33m]\u001b[0m \u001b[1;33m=\u001b[0m \u001b[1;34m\"plum\"\u001b[0m\u001b[1;33m\u001b[0m\u001b[1;33m\u001b[0m\u001b[0m\n\u001b[0m",
      "\u001b[1;31mTypeError\u001b[0m: 'tuple' object does not support item assignment"
     ]
    }
   ],
   "source": [
    "# Tuples are immutable, that means you cannot change, add, or remove items once the tuple is created.\n",
    "tuple_fruits[4] = \"plum\""
   ]
  },
  {
   "cell_type": "code",
   "execution_count": 61,
   "id": "appointed-nicaragua",
   "metadata": {},
   "outputs": [
    {
     "name": "stdout",
     "output_type": "stream",
     "text": [
      "('apple', 'pear', 'avocado', 'banana', 'plum', 'pineapple', 'strawberry', 'orange', 'kiwi', 'melon')\n"
     ]
    }
   ],
   "source": [
    "# But there is a workaround. \n",
    "#step 1) convert the tuple into a list\n",
    "#step 2) change the list\n",
    "#step 3) convert the list back into a tuple.\n",
    "list_fruits = list(tuple_fruits)\n",
    "list_fruits[4] = \"plum\"\n",
    "tuple_fruits = tuple(list_fruits)\n",
    "\n",
    "print(tuple_fruits)"
   ]
  },
  {
   "cell_type": "code",
   "execution_count": 88,
   "id": "dutch-switzerland",
   "metadata": {},
   "outputs": [
    {
     "name": "stdout",
     "output_type": "stream",
     "text": [
      "apple:  apple\n",
      "banana:  banana\n",
      "orange:  orange\n"
     ]
    }
   ],
   "source": [
    "#Unpacking a tuple, means extract the tuple values back into variables\n",
    "fruits = (\"apple\", \"banana\", \"orange\")\n",
    "\n",
    "red, yellow, orange = fruits\n",
    "\n",
    "print(\"apple: \",red)\n",
    "print(\"banana: \",yellow)\n",
    "print(\"orange: \",orange)"
   ]
  },
  {
   "cell_type": "code",
   "execution_count": 13,
   "id": "laughing-georgia",
   "metadata": {},
   "outputs": [
    {
     "name": "stdout",
     "output_type": "stream",
     "text": [
      "(1, 2, 3, 'a', 'b', 'c')\n"
     ]
    }
   ],
   "source": [
    "#Join Two Tuples\n",
    "tuple_num = (1, 2, 3)\n",
    "tuple_char = (\"a\",\"b\",\"c\")\n",
    "\n",
    "tuple_add = tuple_num + tuple_char\n",
    "print(tuple_add)"
   ]
  },
  {
   "cell_type": "code",
   "execution_count": 14,
   "id": "preliminary-beauty",
   "metadata": {},
   "outputs": [
    {
     "name": "stdout",
     "output_type": "stream",
     "text": [
      "(1, 2, 3, 1, 2, 3)\n",
      "('a', 'b', 'c', 'a', 'b', 'c')\n"
     ]
    }
   ],
   "source": [
    "#Multiply Tuples\n",
    "tuple_num = (1, 2, 3)\n",
    "tuple_char = (\"a\",\"b\",\"c\")\n",
    "\n",
    "tuple_num_mul = tuple_num * 2\n",
    "tuple_char_mul = tuple_char * 2\n",
    "\n",
    "print(tuple_num_mul)\n",
    "print(tuple_char_mul)"
   ]
  },
  {
   "cell_type": "markdown",
   "id": "handed-liverpool",
   "metadata": {},
   "source": [
    "#### Loop Tuples"
   ]
  },
  {
   "cell_type": "code",
   "execution_count": 92,
   "id": "simplified-williams",
   "metadata": {},
   "outputs": [
    {
     "name": "stdout",
     "output_type": "stream",
     "text": [
      "apple\n",
      "pear\n",
      "avocado\n",
      "banana\n",
      "plum\n",
      "pineapple\n",
      "strawberry\n",
      "orange\n",
      "kiwi\n",
      "melon\n"
     ]
    }
   ],
   "source": [
    "# for loop - Iterate through the items\n",
    "for x in tuple_fruits:\n",
    "  print(x)"
   ]
  },
  {
   "cell_type": "code",
   "execution_count": 3,
   "id": "signed-circus",
   "metadata": {},
   "outputs": [
    {
     "name": "stdout",
     "output_type": "stream",
     "text": [
      "apple\n",
      "pear\n",
      "avocado\n",
      "banana\n",
      "peach\n",
      "pineapple\n",
      "strawberry\n",
      "orange\n",
      "kiwi\n",
      "melon\n"
     ]
    }
   ],
   "source": [
    "# for loop - Iterate through the index number\n",
    "for i in range(len(tuple_fruits)):\n",
    "  print(tuple_fruits[i])"
   ]
  },
  {
   "cell_type": "code",
   "execution_count": 4,
   "id": "earlier-phrase",
   "metadata": {},
   "outputs": [
    {
     "name": "stdout",
     "output_type": "stream",
     "text": [
      "apple\n",
      "pear\n",
      "avocado\n",
      "banana\n",
      "peach\n",
      "pineapple\n",
      "strawberry\n",
      "orange\n",
      "kiwi\n",
      "melon\n"
     ]
    }
   ],
   "source": [
    "# While Loop - Print all items through the index numbers\n",
    "i = 0\n",
    "while i < len(tuple_fruits):\n",
    "  print(tuple_fruits[i])\n",
    "  i = i + 1"
   ]
  },
  {
   "cell_type": "code",
   "execution_count": null,
   "id": "straight-migration",
   "metadata": {},
   "outputs": [],
   "source": []
  }
 ],
 "metadata": {
  "kernelspec": {
   "display_name": "Python 3",
   "language": "python",
   "name": "python3"
  },
  "language_info": {
   "codemirror_mode": {
    "name": "ipython",
    "version": 3
   },
   "file_extension": ".py",
   "mimetype": "text/x-python",
   "name": "python",
   "nbconvert_exporter": "python",
   "pygments_lexer": "ipython3",
   "version": "3.9.1"
  }
 },
 "nbformat": 4,
 "nbformat_minor": 5
}
