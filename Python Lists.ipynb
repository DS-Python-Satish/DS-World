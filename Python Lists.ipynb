{
 "cells": [
  {
   "cell_type": "markdown",
   "id": "developmental-bleeding",
   "metadata": {},
   "source": [
    "# List"
   ]
  },
  {
   "cell_type": "markdown",
   "id": "abroad-spice",
   "metadata": {},
   "source": [
    "#### Lists are used to store multiple items in a single variable"
   ]
  },
  {
   "cell_type": "code",
   "execution_count": 31,
   "id": "spread-anime",
   "metadata": {},
   "outputs": [],
   "source": [
    "#Create a List\n",
    "#List items are ordered, changeable, and allow duplicate values \n",
    "#String, int and boolean data types are allowed\n",
    "\n",
    "list_fruits = [\"apple\", \"pear\", \"avocado\", \"banana\", \"peach\", \"pineapple\", \"strawberry\", \"orange\", \"kiwi\", \"melon\"]\n",
    "list_nums = [0, 1, 2, 3, 4, 5, 6, 7, 8, 9]\n",
    "list_chars = [\"a\", \"b\", \"c\", \"A\", \"B\", \"C\", \"D\", \"1\", \"2\", \"3\"]\n",
    "list_mixed = [\"a\", \"b\", \"c\", \"A\", \"B\", \"C\", 0, 1, 2, \"apple\"]\n",
    "list_bool = [True, False, False,True]"
   ]
  },
  {
   "cell_type": "code",
   "execution_count": 4,
   "id": "organized-ethernet",
   "metadata": {},
   "outputs": [
    {
     "data": {
      "text/plain": [
       "list"
      ]
     },
     "execution_count": 4,
     "metadata": {},
     "output_type": "execute_result"
    }
   ],
   "source": [
    "type(list_fruits)"
   ]
  },
  {
   "cell_type": "code",
   "execution_count": 5,
   "id": "narrative-indonesia",
   "metadata": {},
   "outputs": [
    {
     "data": {
      "text/plain": [
       "10"
      ]
     },
     "execution_count": 5,
     "metadata": {},
     "output_type": "execute_result"
    }
   ],
   "source": [
    "len(list_fruits)"
   ]
  },
  {
   "cell_type": "code",
   "execution_count": 11,
   "id": "sophisticated-bench",
   "metadata": {},
   "outputs": [
    {
     "name": "stdout",
     "output_type": "stream",
     "text": [
      "first item:apple \n",
      "last item :melon\n"
     ]
    }
   ],
   "source": [
    "# Print the first item & last item in the list\n",
    "n = len(list_fruits)-1 \n",
    "print(\"first item:{one} \\nlast item :{last}\".format(one=list_fruits[0],last=list_fruits[n]))"
   ]
  },
  {
   "cell_type": "code",
   "execution_count": 12,
   "id": "beautiful-electron",
   "metadata": {},
   "outputs": [
    {
     "name": "stdout",
     "output_type": "stream",
     "text": [
      "Last Item:  melon\n"
     ]
    }
   ],
   "source": [
    "#Negative Indexing\n",
    "#Negative indexing start from the end, that means -1 refers to the last item, -2 refers to the second last item etc.\n",
    "print(\"Last Item: \", list_fruits[-1])"
   ]
  },
  {
   "cell_type": "code",
   "execution_count": 13,
   "id": "literary-dairy",
   "metadata": {},
   "outputs": [
    {
     "name": "stdout",
     "output_type": "stream",
     "text": [
      "['pear', 'avocado', 'banana', 'peach', 'pineapple']\n"
     ]
    }
   ],
   "source": [
    "# Range of Index (start at index 1  and end at index 5 (6 is not included))\n",
    "print(list_fruits[1:6])"
   ]
  },
  {
   "cell_type": "code",
   "execution_count": 14,
   "id": "finished-polymer",
   "metadata": {},
   "outputs": [
    {
     "name": "stdout",
     "output_type": "stream",
     "text": [
      "['banana', 'peach', 'pineapple', 'strawberry', 'orange', 'kiwi', 'melon']\n"
     ]
    }
   ],
   "source": [
    "# returns the items from index 3 till to the end\n",
    "print(list_fruits[3:])"
   ]
  },
  {
   "cell_type": "code",
   "execution_count": 15,
   "id": "efficient-closer",
   "metadata": {},
   "outputs": [
    {
     "name": "stdout",
     "output_type": "stream",
     "text": [
      "['apple', 'pear', 'avocado']\n"
     ]
    }
   ],
   "source": [
    "# returns the items from index 0 and till index 2\n",
    "print(list_fruits[:3])"
   ]
  },
  {
   "cell_type": "code",
   "execution_count": 19,
   "id": "essential-orleans",
   "metadata": {},
   "outputs": [
    {
     "name": "stdout",
     "output_type": "stream",
     "text": [
      "Enter fruit name to check in list: Apple\n",
      "apple  is in the fruits list\n"
     ]
    }
   ],
   "source": [
    "# Check if Item Exists\n",
    "fruit = input(\"Enter fruit name to check in list: \")\n",
    "fruit_lower = fruit.lower()\n",
    "if fruit_lower in list_fruits:\n",
    "  print(fruit_lower, \" is in the fruits list\")\n",
    "else:\n",
    "  print(fruit_lower, \" is not in the fruits list\")"
   ]
  },
  {
   "cell_type": "code",
   "execution_count": 32,
   "id": "professional-warrior",
   "metadata": {},
   "outputs": [
    {
     "name": "stdout",
     "output_type": "stream",
     "text": [
      "['papaya', 'pear', 'avocado', 'banana', 'peach', 'pineapple', 'strawberry', 'orange', 'kiwi', 'melon']\n"
     ]
    }
   ],
   "source": [
    "#Change Item Value\n",
    "list_fruits[0] = \"papaya\"\n",
    "print(list_fruits)"
   ]
  },
  {
   "cell_type": "code",
   "execution_count": 33,
   "id": "brilliant-phoenix",
   "metadata": {},
   "outputs": [
    {
     "name": "stdout",
     "output_type": "stream",
     "text": [
      "['papaya', 'cherry', 'apple', 'banana', 'peach', 'pineapple', 'strawberry', 'orange', 'kiwi', 'melon']\n"
     ]
    }
   ],
   "source": [
    "# Change a Range of Item Values\n",
    "list_fruits[1:3] = [\"cherry\", \"apple\"]\n",
    "print(list_fruits)"
   ]
  },
  {
   "cell_type": "code",
   "execution_count": 34,
   "id": "otherwise-selection",
   "metadata": {},
   "outputs": [
    {
     "name": "stdout",
     "output_type": "stream",
     "text": [
      "['papaya', 'cherry', 'guava', 'grapes', 'banana', 'peach', 'pineapple', 'strawberry', 'orange', 'kiwi', 'melon']\n"
     ]
    }
   ],
   "source": [
    "#Change the third value(apple) by replacing it with two new values(guava and grapes)\n",
    "list_fruits[2:3] = [\"guava\", \"grapes\"]\n",
    "print(list_fruits)"
   ]
  },
  {
   "cell_type": "code",
   "execution_count": 36,
   "id": "suburban-valentine",
   "metadata": {},
   "outputs": [
    {
     "name": "stdout",
     "output_type": "stream",
     "text": [
      "['papaya', 'apple', 'grapes', 'banana', 'peach', 'pineapple', 'strawberry', 'orange', 'kiwi', 'melon']\n"
     ]
    }
   ],
   "source": [
    "#Change the second and third value by replacing it with one value(apple)\n",
    "list_fruits[1:3] = [\"apple\"]\n",
    "print(list_fruits)"
   ]
  },
  {
   "cell_type": "code",
   "execution_count": 37,
   "id": "beginning-protection",
   "metadata": {},
   "outputs": [
    {
     "name": "stdout",
     "output_type": "stream",
     "text": [
      "['papaya', 'guava', 'apple', 'grapes', 'banana', 'peach', 'pineapple', 'strawberry', 'orange', 'kiwi', 'melon']\n"
     ]
    }
   ],
   "source": [
    "# Insert Items - Insert \"guava\" as the second item\n",
    "list_fruits.insert(1,\"guava\")\n",
    "print(list_fruits)"
   ]
  },
  {
   "cell_type": "code",
   "execution_count": 40,
   "id": "authentic-plaza",
   "metadata": {},
   "outputs": [
    {
     "name": "stdout",
     "output_type": "stream",
     "text": [
      "['papaya', 'guava', 'apple', 'grapes', 'banana', 'peach', 'pineapple', 'strawberry', 'orange', 'kiwi', 'melon', 'apricot']\n"
     ]
    }
   ],
   "source": [
    "# Append Items - This will add item at end of the list\n",
    "list_fruits.append(\"apricot\")\n",
    "print(list_fruits)"
   ]
  },
  {
   "cell_type": "code",
   "execution_count": 44,
   "id": "cheap-madonna",
   "metadata": {},
   "outputs": [
    {
     "name": "stdout",
     "output_type": "stream",
     "text": [
      "List extended with another list:  [1, 2, 3, 4, 5, 6]\n",
      "List extended with tuple:  [1, 2, 3, 4, 5, 6]\n"
     ]
    }
   ],
   "source": [
    "#Extending List with another list and/or tuples, sets, dictionaries\n",
    "list1 = [1,2,3]\n",
    "list2 = [4,5,6]\n",
    "list1.extend(list2)\n",
    "\n",
    "list3 = [1,2,3]\n",
    "tuple1 = (4,5,6)\n",
    "list3.extend(tuple1)\n",
    "print(\"List extended with another list: \",list1)\n",
    "print(\"List extended with tuple: \",list3)"
   ]
  },
  {
   "cell_type": "code",
   "execution_count": 45,
   "id": "least-stanford",
   "metadata": {},
   "outputs": [
    {
     "name": "stdout",
     "output_type": "stream",
     "text": [
      "['papaya', 'apple', 'grapes', 'banana', 'peach', 'pineapple', 'strawberry', 'orange', 'kiwi', 'melon', 'apricot']\n"
     ]
    }
   ],
   "source": [
    "# Remove List Items\n",
    "# Remove \"guava\" from the list\n",
    "list_fruits.remove(\"guava\")\n",
    "print(list_fruits)"
   ]
  },
  {
   "cell_type": "code",
   "execution_count": 46,
   "id": "expressed-corruption",
   "metadata": {},
   "outputs": [
    {
     "name": "stdout",
     "output_type": "stream",
     "text": [
      "['papaya', 'grapes', 'banana', 'peach', 'pineapple', 'strawberry', 'orange', 'kiwi', 'melon', 'apricot']\n"
     ]
    }
   ],
   "source": [
    "# Remove the second item\n",
    "list_fruits.pop(1)\n",
    "print(list_fruits)"
   ]
  },
  {
   "cell_type": "code",
   "execution_count": 47,
   "id": "civic-treasurer",
   "metadata": {},
   "outputs": [
    {
     "name": "stdout",
     "output_type": "stream",
     "text": [
      "['papaya', 'grapes', 'banana', 'peach', 'pineapple', 'strawberry', 'orange', 'kiwi', 'melon']\n"
     ]
    }
   ],
   "source": [
    "# Remove the last item\n",
    "list_fruits.pop()\n",
    "print(list_fruits)"
   ]
  },
  {
   "cell_type": "code",
   "execution_count": 49,
   "id": "powerful-portuguese",
   "metadata": {},
   "outputs": [
    {
     "name": "stdout",
     "output_type": "stream",
     "text": [
      "[]\n"
     ]
    }
   ],
   "source": [
    "# Clear the List\n",
    "list_fruits.clear()\n",
    "print(list_fruits)"
   ]
  },
  {
   "cell_type": "markdown",
   "id": "latter-nylon",
   "metadata": {},
   "source": [
    "#### Loop Lists"
   ]
  },
  {
   "cell_type": "code",
   "execution_count": 58,
   "id": "institutional-hanging",
   "metadata": {},
   "outputs": [],
   "source": [
    "list_fruits = [\"apple\", \"pear\", \"avocado\", \"banana\", \"peach\", \"pineapple\", \"strawberry\", \"orange\", \"kiwi\", \"melon\"]"
   ]
  },
  {
   "cell_type": "code",
   "execution_count": 51,
   "id": "dangerous-utility",
   "metadata": {},
   "outputs": [
    {
     "name": "stdout",
     "output_type": "stream",
     "text": [
      "apple\n",
      "pear\n",
      "avocado\n",
      "banana\n",
      "peach\n",
      "pineapple\n",
      "strawberry\n",
      "orange\n",
      "kiwi\n",
      "melon\n"
     ]
    }
   ],
   "source": [
    "# for loop - Iterate through the items\n",
    "for x in list_fruits:\n",
    "  print(x)"
   ]
  },
  {
   "cell_type": "code",
   "execution_count": 52,
   "id": "surgical-tours",
   "metadata": {},
   "outputs": [
    {
     "name": "stdout",
     "output_type": "stream",
     "text": [
      "apple\n",
      "pear\n",
      "avocado\n",
      "banana\n",
      "peach\n",
      "pineapple\n",
      "strawberry\n",
      "orange\n",
      "kiwi\n",
      "melon\n"
     ]
    }
   ],
   "source": [
    "# for loop - Iterate through the index number\n",
    "for i in range(len(list_fruits)):\n",
    "  print(list_fruits[i])"
   ]
  },
  {
   "cell_type": "code",
   "execution_count": 53,
   "id": "still-seattle",
   "metadata": {},
   "outputs": [
    {
     "name": "stdout",
     "output_type": "stream",
     "text": [
      "apple\n",
      "pear\n",
      "avocado\n",
      "banana\n",
      "peach\n",
      "pineapple\n",
      "strawberry\n",
      "orange\n",
      "kiwi\n",
      "melon\n"
     ]
    }
   ],
   "source": [
    "# While Loop - Print all items through the index numbers\n",
    "i = 0\n",
    "while i < len(list_fruits):\n",
    "  print(list_fruits[i])\n",
    "  i = i + 1"
   ]
  },
  {
   "cell_type": "code",
   "execution_count": 55,
   "id": "minus-richards",
   "metadata": {},
   "outputs": [
    {
     "name": "stdout",
     "output_type": "stream",
     "text": [
      "apple\n",
      "pear\n",
      "avocado\n",
      "banana\n",
      "peach\n",
      "pineapple\n",
      "strawberry\n",
      "orange\n",
      "kiwi\n",
      "melon\n"
     ]
    },
    {
     "data": {
      "text/plain": [
       "[None, None, None, None, None, None, None, None, None, None]"
      ]
     },
     "execution_count": 55,
     "metadata": {},
     "output_type": "execute_result"
    }
   ],
   "source": [
    "#short loop statement will print all items in a list\n",
    "# new_list = [x for x in existing_list]\n",
    "[print(x) for x in list_fruits]"
   ]
  },
  {
   "cell_type": "markdown",
   "id": "eleven-clock",
   "metadata": {},
   "source": [
    "#### Sort Lists"
   ]
  },
  {
   "cell_type": "code",
   "execution_count": 59,
   "id": "organized-mistress",
   "metadata": {},
   "outputs": [
    {
     "name": "stdout",
     "output_type": "stream",
     "text": [
      "actual list:  ['apple', 'pear', 'avocado', 'banana', 'peach', 'pineapple', 'strawberry', 'orange', 'kiwi', 'melon']\n",
      "sorted list: ['apple', 'avocado', 'banana', 'kiwi', 'melon', 'orange', 'peach', 'pear', 'pineapple', 'strawberry']\n"
     ]
    }
   ],
   "source": [
    "#sort the list alphanumerically in ascending by default\n",
    "print(\"actual list: \", list_fruits)\n",
    "list_fruits.sort()\n",
    "print(\"sorted list:\",list_fruits)"
   ]
  },
  {
   "cell_type": "code",
   "execution_count": 60,
   "id": "hearing-application",
   "metadata": {},
   "outputs": [
    {
     "name": "stdout",
     "output_type": "stream",
     "text": [
      "actual list:  ['apple', 'pear', 'avocado', 'banana', 'peach', 'pineapple', 'strawberry', 'orange', 'kiwi', 'melon']\n",
      "sorted list in descending : ['strawberry', 'pineapple', 'pear', 'peach', 'orange', 'melon', 'kiwi', 'banana', 'avocado', 'apple']\n"
     ]
    }
   ],
   "source": [
    "# Sort the list descending\n",
    "list_fruits = [\"apple\", \"pear\", \"avocado\", \"banana\", \"peach\", \"pineapple\", \"strawberry\", \"orange\", \"kiwi\", \"melon\"]\n",
    "print(\"actual list: \", list_fruits)\n",
    "list_fruits.sort(reverse = True) # also use reverse() method to sor in desc Ex:list_fruits.reverse()\n",
    "print(\"sorted list in descending :\",list_fruits)"
   ]
  },
  {
   "cell_type": "code",
   "execution_count": 63,
   "id": "theoretical-difference",
   "metadata": {},
   "outputs": [
    {
     "name": "stdout",
     "output_type": "stream",
     "text": [
      "['apple', 'banana', 'cherry']\n"
     ]
    }
   ],
   "source": [
    "thislist = [\"apple\", \"banana\", \"cherry\"]\n",
    "mylist = list(thislist)\n",
    "print(mylist)"
   ]
  },
  {
   "cell_type": "code",
   "execution_count": null,
   "id": "alien-acquisition",
   "metadata": {},
   "outputs": [],
   "source": []
  }
 ],
 "metadata": {
  "kernelspec": {
   "display_name": "Python 3",
   "language": "python",
   "name": "python3"
  },
  "language_info": {
   "codemirror_mode": {
    "name": "ipython",
    "version": 3
   },
   "file_extension": ".py",
   "mimetype": "text/x-python",
   "name": "python",
   "nbconvert_exporter": "python",
   "pygments_lexer": "ipython3",
   "version": "3.9.1"
  }
 },
 "nbformat": 4,
 "nbformat_minor": 5
}
