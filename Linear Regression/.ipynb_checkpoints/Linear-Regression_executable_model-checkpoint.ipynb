{
 "cells": [
  {
   "cell_type": "markdown",
   "id": "green-system",
   "metadata": {},
   "source": [
    "### Load Linear Regression final model\n",
    "**See creation of Linear Regression model in the same folder (Linear-Regression.ipynb)**"
   ]
  },
  {
   "cell_type": "code",
   "execution_count": null,
   "id": "broke-sherman",
   "metadata": {},
   "outputs": [],
   "source": [
    "from joblib import load"
   ]
  },
  {
   "cell_type": "code",
   "execution_count": 7,
   "id": "short-arrest",
   "metadata": {},
   "outputs": [],
   "source": [
    "campaign = [[200,50,10]] "
   ]
  },
  {
   "cell_type": "code",
   "execution_count": 3,
   "id": "greek-polls",
   "metadata": {},
   "outputs": [],
   "source": [
    "loaded_model = load('sales_model.joblib')"
   ]
  },
  {
   "cell_type": "code",
   "execution_count": 8,
   "id": "responsible-tissue",
   "metadata": {},
   "outputs": [
    {
     "data": {
      "text/plain": [
       "array([21.50794438])"
      ]
     },
     "execution_count": 8,
     "metadata": {},
     "output_type": "execute_result"
    }
   ],
   "source": [
    "loaded_model.predict(campaign)"
   ]
  },
  {
   "cell_type": "code",
   "execution_count": null,
   "id": "allied-alarm",
   "metadata": {},
   "outputs": [],
   "source": []
  }
 ],
 "metadata": {
  "kernelspec": {
   "display_name": "Python 3",
   "language": "python",
   "name": "python3"
  },
  "language_info": {
   "codemirror_mode": {
    "name": "ipython",
    "version": 3
   },
   "file_extension": ".py",
   "mimetype": "text/x-python",
   "name": "python",
   "nbconvert_exporter": "python",
   "pygments_lexer": "ipython3",
   "version": "3.9.1"
  }
 },
 "nbformat": 4,
 "nbformat_minor": 5
}
