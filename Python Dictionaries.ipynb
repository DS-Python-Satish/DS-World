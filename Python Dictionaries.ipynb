{
 "cells": [
  {
   "cell_type": "markdown",
   "id": "genuine-wonder",
   "metadata": {},
   "source": [
    "# Python Dictionaries"
   ]
  },
  {
   "cell_type": "markdown",
   "id": "married-technique",
   "metadata": {},
   "source": [
    "Dictionaries are used to store data values in key:value pairs."
   ]
  },
  {
   "cell_type": "code",
   "execution_count": 2,
   "id": "collectible-stephen",
   "metadata": {},
   "outputs": [],
   "source": [
    "# Create a Dictionary\n",
    "# Dictionary items are ordered, changeable, and does not allow duplicates.\n",
    "dict_emp = {\n",
    "  \"id\": 1050,\n",
    "  \"name\": \"John\",\n",
    "  \"dep\": \"IT\",\n",
    "  \"exp\": 2.6    \n",
    "}"
   ]
  },
  {
   "cell_type": "code",
   "execution_count": 4,
   "id": "alien-arrest",
   "metadata": {},
   "outputs": [
    {
     "name": "stdout",
     "output_type": "stream",
     "text": [
      "{'id': 1050, 'name': 'John', 'dep': 'IT', 'exp': 2.6}\n"
     ]
    }
   ],
   "source": [
    "print(dict_emp)"
   ]
  },
  {
   "cell_type": "code",
   "execution_count": 6,
   "id": "corrected-month",
   "metadata": {},
   "outputs": [
    {
     "name": "stdout",
     "output_type": "stream",
     "text": [
      "<class 'dict'>\n"
     ]
    }
   ],
   "source": [
    "print(type(dict_emp))"
   ]
  },
  {
   "cell_type": "code",
   "execution_count": 5,
   "id": "grave-slovakia",
   "metadata": {},
   "outputs": [
    {
     "name": "stdout",
     "output_type": "stream",
     "text": [
      "4\n"
     ]
    }
   ],
   "source": [
    "print(len(dict_emp))"
   ]
  },
  {
   "cell_type": "markdown",
   "id": "competitive-vitamin",
   "metadata": {},
   "source": [
    "### Accessing Items"
   ]
  },
  {
   "cell_type": "code",
   "execution_count": 13,
   "id": "beautiful-secretariat",
   "metadata": {},
   "outputs": [
    {
     "name": "stdout",
     "output_type": "stream",
     "text": [
      "John\n",
      "2.6\n"
     ]
    }
   ],
   "source": [
    "#Get the value of the \"name\" key\n",
    "print(dict_emp[\"name\"])\n",
    "print(dict_emp.get(\"exp\"))  # also get() will give the same result"
   ]
  },
  {
   "cell_type": "code",
   "execution_count": 14,
   "id": "charming-passion",
   "metadata": {},
   "outputs": [
    {
     "data": {
      "text/plain": [
       "dict_keys(['id', 'name', 'dep', 'exp'])"
      ]
     },
     "execution_count": 14,
     "metadata": {},
     "output_type": "execute_result"
    }
   ],
   "source": [
    "dict_emp.keys()"
   ]
  },
  {
   "cell_type": "code",
   "execution_count": 19,
   "id": "charged-ferry",
   "metadata": {},
   "outputs": [],
   "source": [
    "# Add a new item to dictionary\n",
    "dict_emp[\"des\"] = \"software engineer\""
   ]
  },
  {
   "cell_type": "code",
   "execution_count": 20,
   "id": "naughty-algeria",
   "metadata": {},
   "outputs": [
    {
     "data": {
      "text/plain": [
       "dict_values([1050, 'John', 'IT', 2.6, 'software engineer'])"
      ]
     },
     "execution_count": 20,
     "metadata": {},
     "output_type": "execute_result"
    }
   ],
   "source": [
    "dict_emp.values()"
   ]
  },
  {
   "cell_type": "code",
   "execution_count": 21,
   "id": "combined-puppy",
   "metadata": {},
   "outputs": [
    {
     "data": {
      "text/plain": [
       "dict_values([1050, 'John', 'IT', 2.6, 'data engineer'])"
      ]
     },
     "execution_count": 21,
     "metadata": {},
     "output_type": "execute_result"
    }
   ],
   "source": [
    "dict_emp[\"des\"] = \"data engineer\"\n",
    "dict_emp.values()"
   ]
  },
  {
   "cell_type": "code",
   "execution_count": 22,
   "id": "circular-means",
   "metadata": {},
   "outputs": [
    {
     "data": {
      "text/plain": [
       "dict_items([('id', 1050), ('name', 'John'), ('dep', 'IT'), ('exp', 2.6), ('des', 'data engineer')])"
      ]
     },
     "execution_count": 22,
     "metadata": {},
     "output_type": "execute_result"
    }
   ],
   "source": [
    "# Get a list of the key:value pairs\n",
    "dict_emp.items()"
   ]
  },
  {
   "cell_type": "code",
   "execution_count": 25,
   "id": "understood-finance",
   "metadata": {},
   "outputs": [
    {
     "name": "stdout",
     "output_type": "stream",
     "text": [
      "Yes, 'exp' is found in keys\n"
     ]
    }
   ],
   "source": [
    "# Check if Key Exists\n",
    "if \"exp\" in dict_emp:\n",
    "  print(\"Yes, 'exp' is found in keys\")\n",
    "else:\n",
    "  print(\"No, 'exp' is not found in keys\")"
   ]
  },
  {
   "cell_type": "code",
   "execution_count": 28,
   "id": "external-involvement",
   "metadata": {},
   "outputs": [
    {
     "name": "stdout",
     "output_type": "stream",
     "text": [
      "{'id': 1050, 'name': 'John', 'dep': 'IT', 'exp': 2.6, 'des': 'data engineer', 'sex': 'f'}\n"
     ]
    }
   ],
   "source": [
    "# Update Dictionary\n",
    "dict_emp.update({\"sex\": \"f\"})\n",
    "print(dict_emp)"
   ]
  },
  {
   "cell_type": "markdown",
   "id": "spanish-international",
   "metadata": {},
   "source": [
    "### Removing Items"
   ]
  },
  {
   "cell_type": "code",
   "execution_count": 29,
   "id": "passing-people",
   "metadata": {},
   "outputs": [
    {
     "name": "stdout",
     "output_type": "stream",
     "text": [
      "{'id': 1050, 'name': 'John', 'dep': 'IT', 'exp': 2.6, 'sex': 'f'}\n"
     ]
    }
   ],
   "source": [
    "dict_emp.pop(\"des\")\n",
    "print(dict_emp)"
   ]
  },
  {
   "cell_type": "code",
   "execution_count": 31,
   "id": "colonial-region",
   "metadata": {},
   "outputs": [
    {
     "name": "stdout",
     "output_type": "stream",
     "text": [
      "{'id': 1050, 'name': 'John', 'dep': 'IT', 'exp': 2.6}\n"
     ]
    }
   ],
   "source": [
    "# popitem() removes the last inserted item\n",
    "dict_emp.popitem()\n",
    "print(dict_emp)"
   ]
  },
  {
   "cell_type": "markdown",
   "id": "pressed-chest",
   "metadata": {},
   "source": [
    "### Loop Dictionaries"
   ]
  },
  {
   "cell_type": "code",
   "execution_count": 32,
   "id": "liquid-constitutional",
   "metadata": {},
   "outputs": [
    {
     "name": "stdout",
     "output_type": "stream",
     "text": [
      "id\n",
      "name\n",
      "dep\n",
      "exp\n"
     ]
    }
   ],
   "source": [
    "# Print all key names in the dictionary\n",
    "for x in dict_emp:\n",
    "  print(x)"
   ]
  },
  {
   "cell_type": "code",
   "execution_count": 33,
   "id": "mechanical-penetration",
   "metadata": {},
   "outputs": [
    {
     "name": "stdout",
     "output_type": "stream",
     "text": [
      "1050\n",
      "John\n",
      "IT\n",
      "2.6\n"
     ]
    }
   ],
   "source": [
    "# Print all values in the dictionary\n",
    "for x in dict_emp:\n",
    "  print(dict_emp[x])"
   ]
  },
  {
   "cell_type": "code",
   "execution_count": 34,
   "id": "insured-reading",
   "metadata": {},
   "outputs": [
    {
     "name": "stdout",
     "output_type": "stream",
     "text": [
      "id 1050\n",
      "name John\n",
      "dep IT\n",
      "exp 2.6\n"
     ]
    }
   ],
   "source": [
    "# Print both keys and values\n",
    "for x, y in dict_emp.items():\n",
    "  print(x, y)"
   ]
  },
  {
   "cell_type": "code",
   "execution_count": 36,
   "id": "enclosed-tobago",
   "metadata": {},
   "outputs": [
    {
     "name": "stdout",
     "output_type": "stream",
     "text": [
      "{'id': 1050, 'name': 'John', 'dep': 'IT', 'exp': 2.6}\n",
      "{'id': 1050, 'name': 'John', 'dep': 'IT', 'exp': 2.6}\n"
     ]
    }
   ],
   "source": [
    "emp_cpy = dict_emp.copy()\n",
    "print(dict_emp)\n",
    "print(emp_cpy)"
   ]
  },
  {
   "cell_type": "code",
   "execution_count": 43,
   "id": "equivalent-relationship",
   "metadata": {},
   "outputs": [
    {
     "name": "stdout",
     "output_type": "stream",
     "text": [
      "{'emp': {'id': 1050, 'name': 'peter', 'age': '35'}, 'student': {'id': 2001, 'name': 'John', 'age': '18'}, 'bus': {'id': 5001, 'name': 'steven', 'age': '55'}}\n"
     ]
    }
   ],
   "source": [
    "# Nested Dictionaries\n",
    "emp = {\n",
    "  \"id\": 1050,\n",
    "  \"name\": \"peter\",\n",
    "  \"age\": \"35\"\n",
    "}\n",
    "student = {\n",
    "  \"id\": 2001,\n",
    "  \"name\": \"John\",\n",
    "  \"age\": \"18\"\n",
    "}\n",
    "bus = {\n",
    "  \"id\": 5001,\n",
    "  \"name\": \"steven\",\n",
    "  \"age\": \"55\"\n",
    "}\n",
    "dict_nest = {\"emp\" : emp,\n",
    "             \"student\" : student,\n",
    "             \"bus\" : bus\n",
    "            }\n",
    "print(dict_nest)"
   ]
  },
  {
   "cell_type": "code",
   "execution_count": null,
   "id": "accepted-torture",
   "metadata": {},
   "outputs": [],
   "source": []
  }
 ],
 "metadata": {
  "kernelspec": {
   "display_name": "Python 3",
   "language": "python",
   "name": "python3"
  },
  "language_info": {
   "codemirror_mode": {
    "name": "ipython",
    "version": 3
   },
   "file_extension": ".py",
   "mimetype": "text/x-python",
   "name": "python",
   "nbconvert_exporter": "python",
   "pygments_lexer": "ipython3",
   "version": "3.9.1"
  }
 },
 "nbformat": 4,
 "nbformat_minor": 5
}
