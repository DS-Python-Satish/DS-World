{
 "cells": [
  {
   "cell_type": "markdown",
   "id": "genuine-north",
   "metadata": {},
   "source": [
    "# Lambda expression"
   ]
  },
  {
   "cell_type": "markdown",
   "id": "moderate-emergency",
   "metadata": {},
   "source": [
    "##### Lambda is a small anonymous function. This can take any number of arguments, but only have one expression."
   ]
  },
  {
   "cell_type": "code",
   "execution_count": 3,
   "id": "directed-state",
   "metadata": {},
   "outputs": [
    {
     "name": "stdout",
     "output_type": "stream",
     "text": [
      "133\n"
     ]
    }
   ],
   "source": [
    "# Add 100 to argument and return the results\n",
    "result = lambda var : var + 100\n",
    "print(result(33))"
   ]
  },
  {
   "cell_type": "code",
   "execution_count": 5,
   "id": "retired-trail",
   "metadata": {},
   "outputs": [
    {
     "name": "stdout",
     "output_type": "stream",
     "text": [
      "500\n"
     ]
    }
   ],
   "source": [
    "# Send multiple arguments\n",
    "result = lambda arg1, arg2 : arg1 * arg2\n",
    "print(result(10, 50))"
   ]
  },
  {
   "cell_type": "code",
   "execution_count": 7,
   "id": "intensive-south",
   "metadata": {},
   "outputs": [
    {
     "name": "stdout",
     "output_type": "stream",
     "text": [
      "100\n",
      "150\n"
     ]
    }
   ],
   "source": [
    "def myfunc(n):\n",
    "  return lambda a : a * n\n",
    "\n",
    "mydoubler = myfunc(2)\n",
    "mytripple = myfunc(3)\n",
    "\n",
    "print(mydoubler(50))\n",
    "print(mytripple(50))"
   ]
  },
  {
   "cell_type": "code",
   "execution_count": 9,
   "id": "found-suffering",
   "metadata": {},
   "outputs": [
    {
     "name": "stdout",
     "output_type": "stream",
     "text": [
      "0.9090909090909091\n",
      "1.8181818181818181\n",
      "22.727272727272727\n",
      "36.36363636363636\n"
     ]
    }
   ],
   "source": [
    "w = [2,-1,4,50,80]\n",
    "convert = lambda x: x*(1/2.2)\n",
    "for x in w:\n",
    "  if x>0:\n",
    "      print(convert(x))"
   ]
  },
  {
   "cell_type": "code",
   "execution_count": 18,
   "id": "smart-initial",
   "metadata": {},
   "outputs": [
    {
     "name": "stdout",
     "output_type": "stream",
     "text": [
      "Area of circle for the radius 4 :  50.26548245743669\n",
      "Area of circle for the radius 10 :  314.1592653589793\n"
     ]
    }
   ],
   "source": [
    "from math import pi\n",
    "circle_area = lambda r: pi * r ** 2\n",
    "print(\"Area of circle for the radius 4 : \",circle_area(4))\n",
    "print(\"Area of circle for the radius 10 : \",circle_area(10))"
   ]
  },
  {
   "cell_type": "code",
   "execution_count": null,
   "id": "martial-approach",
   "metadata": {},
   "outputs": [],
   "source": []
  }
 ],
 "metadata": {
  "kernelspec": {
   "display_name": "Python 3",
   "language": "python",
   "name": "python3"
  },
  "language_info": {
   "codemirror_mode": {
    "name": "ipython",
    "version": 3
   },
   "file_extension": ".py",
   "mimetype": "text/x-python",
   "name": "python",
   "nbconvert_exporter": "python",
   "pygments_lexer": "ipython3",
   "version": "3.9.1"
  }
 },
 "nbformat": 4,
 "nbformat_minor": 5
}
