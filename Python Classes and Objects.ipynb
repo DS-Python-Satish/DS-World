{
 "cells": [
  {
   "cell_type": "markdown",
   "id": "purple-endorsement",
   "metadata": {},
   "source": [
    "# Python Classes and Objects\n",
    "**Python is an object oriented programming language**\n",
    "\n",
    "**Almost everything in Python is an object, with its properties and methods.**"
   ]
  },
  {
   "cell_type": "markdown",
   "id": "behavioral-fundamental",
   "metadata": {},
   "source": [
    "##### Create a Class"
   ]
  },
  {
   "cell_type": "code",
   "execution_count": 4,
   "id": "accessory-battery",
   "metadata": {},
   "outputs": [],
   "source": [
    "class FirstClass:\n",
    "  x = \"My First Class\""
   ]
  },
  {
   "cell_type": "markdown",
   "id": "french-bookmark",
   "metadata": {},
   "source": [
    "##### Create Object"
   ]
  },
  {
   "cell_type": "code",
   "execution_count": 5,
   "id": "pleasant-thailand",
   "metadata": {},
   "outputs": [
    {
     "name": "stdout",
     "output_type": "stream",
     "text": [
      "My First Class\n"
     ]
    }
   ],
   "source": [
    "cls1 = FirstClass()\n",
    "print(cls1.x)"
   ]
  },
  {
   "cell_type": "code",
   "execution_count": 6,
   "id": "unlike-thunder",
   "metadata": {},
   "outputs": [
    {
     "name": "stdout",
     "output_type": "stream",
     "text": [
      "Name of the employee:  Steven\n",
      "Deparment:  IT\n"
     ]
    }
   ],
   "source": [
    "class Emp:\n",
    "  def __init__(self, name, dep):\n",
    "    self.name = name\n",
    "    self.dep = dep\n",
    "\n",
    "cls1 = Emp(\"Steven\", 'IT')\n",
    "\n",
    "print(\"Name of the employee: \", cls1.name)\n",
    "print(\"Deparment: \",cls1.dep)"
   ]
  },
  {
   "cell_type": "code",
   "execution_count": 18,
   "id": "annual-understanding",
   "metadata": {},
   "outputs": [
    {
     "name": "stdout",
     "output_type": "stream",
     "text": [
      "This is Steven\n",
      "working in IT\n"
     ]
    }
   ],
   "source": [
    "# Add function in class\n",
    "class Emp:\n",
    "  def __init__(self, name, dep):\n",
    "    self.name = name\n",
    "    self.dep = dep\n",
    "  def mydep(self):\n",
    "    print (\"This is \" +self.name)\n",
    "    print (\"working in \" +self.dep)\n",
    "\n",
    "\n",
    "cls1 = Emp(\"Steven\", 'IT')\n",
    "\n",
    "cls1.mydep()"
   ]
  },
  {
   "cell_type": "code",
   "execution_count": 25,
   "id": "adequate-keyboard",
   "metadata": {},
   "outputs": [
    {
     "name": "stdout",
     "output_type": "stream",
     "text": [
      "Addition     :  9\n",
      "Substraction :  -1\n",
      "Multiply     :  20\n",
      "SDivision    :  0.8\n"
     ]
    }
   ],
   "source": [
    "class MathClass:\n",
    "    def __init__(self, a=0, b=0):\n",
    "        self.first_num = a\n",
    "        self.sec_num = b\n",
    "\n",
    "    def add(self):\n",
    "      return self.first_num + self.sec_num\n",
    "    def sub(self):\n",
    "      return self.first_num - self.sec_num\n",
    "    def mul(self):\n",
    "      return self.first_num * self.sec_num\n",
    "    def div(self):\n",
    "      return self.first_num / self.sec_num\n",
    "\n",
    "cal1 = MathClass(4,5)\n",
    "print(\"Addition     : \",cal1.add())\n",
    "print(\"Substraction : \",cal1.sub())\n",
    "print(\"Multiply     : \",cal1.mul())\n",
    "print(\"SDivision    : \",cal1.div())"
   ]
  },
  {
   "cell_type": "code",
   "execution_count": 26,
   "id": "heavy-czech",
   "metadata": {},
   "outputs": [
    {
     "data": {
      "text/plain": [
       "0"
      ]
     },
     "execution_count": 26,
     "metadata": {},
     "output_type": "execute_result"
    }
   ],
   "source": [
    "# call class with default values\n",
    "cla2 = MathClass()\n",
    "Math2.add()"
   ]
  },
  {
   "cell_type": "code",
   "execution_count": null,
   "id": "ranking-republic",
   "metadata": {},
   "outputs": [],
   "source": []
  }
 ],
 "metadata": {
  "kernelspec": {
   "display_name": "Python 3",
   "language": "python",
   "name": "python3"
  },
  "language_info": {
   "codemirror_mode": {
    "name": "ipython",
    "version": 3
   },
   "file_extension": ".py",
   "mimetype": "text/x-python",
   "name": "python",
   "nbconvert_exporter": "python",
   "pygments_lexer": "ipython3",
   "version": "3.9.1"
  }
 },
 "nbformat": 4,
 "nbformat_minor": 5
}
