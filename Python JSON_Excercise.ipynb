{
 "cells": [
  {
   "cell_type": "markdown",
   "id": "analyzed-stations",
   "metadata": {},
   "source": [
    "#### Python JSON"
   ]
  },
  {
   "cell_type": "code",
   "execution_count": 1,
   "id": "functioning-delicious",
   "metadata": {},
   "outputs": [],
   "source": [
    "import json"
   ]
  },
  {
   "cell_type": "code",
   "execution_count": 10,
   "id": "confidential-preservation",
   "metadata": {},
   "outputs": [
    {
     "name": "stdout",
     "output_type": "stream",
     "text": [
      "30\n"
     ]
    }
   ],
   "source": [
    "# Convert JSON to Python\n",
    "x =  '{\"name\":\"sam\", \"age\":30, \"dep\":\"ICT\"}'\n",
    "y = json.loads(x)\n",
    "print(y[\"age\"])"
   ]
  },
  {
   "cell_type": "code",
   "execution_count": 7,
   "id": "falling-guard",
   "metadata": {},
   "outputs": [
    {
     "name": "stdout",
     "output_type": "stream",
     "text": [
      "{\"name\": \"sam\", \"age\": 30, \"dep\": \"ICT\"}\n"
     ]
    }
   ],
   "source": [
    "# Convert Python to JSON\n",
    "x =  { \"name\":\"sam\", \"age\":30, \"dep\":\"ICT\"}\n",
    "y = json.dumps(x)\n",
    "print(y)"
   ]
  },
  {
   "cell_type": "code",
   "execution_count": 11,
   "id": "convinced-maximum",
   "metadata": {},
   "outputs": [
    {
     "name": "stdout",
     "output_type": "stream",
     "text": [
      "{\"name\": \"John\", \"age\": 30}\n",
      "[\"apple\", \"bananas\"]\n",
      "[\"apple\", \"bananas\"]\n",
      "\"hello\"\n",
      "42\n",
      "31.76\n",
      "true\n",
      "null\n"
     ]
    }
   ],
   "source": [
    "print(json.dumps({\"name\": \"John\", \"age\": 30})) #dict\n",
    "print(json.dumps([\"apple\", \"bananas\"])) #list\n",
    "print(json.dumps((\"apple\", \"bananas\"))) #tuple\n",
    "print(json.dumps(\"hello\")) #string\n",
    "print(json.dumps(42)) #int\n",
    "print(json.dumps(31.76)) #float\n",
    "print(json.dumps(True)) #boolean\n",
    "print(json.dumps(None)) #null"
   ]
  },
  {
   "cell_type": "code",
   "execution_count": 21,
   "id": "exotic-dubai",
   "metadata": {},
   "outputs": [
    {
     "name": "stdout",
     "output_type": "stream",
     "text": [
      "{\"name\": \"sam\", \"age\": 55, \"married\": true, \"divorced\": false, \"parents\": [\"Rosi\", \"Steve\"], \"pets\": null, \"childrens\": [{\"name\": \"Rosi\", \"age\": 20.2}, {\"name\": \"Steve\", \"age\": 17.5}]}\n"
     ]
    }
   ],
   "source": [
    "# Convert a Python object which contains different data types\n",
    "x = {\n",
    "  \"name\": \"sam\",\n",
    "  \"age\": 55,\n",
    "  \"married\": True,\n",
    "  \"divorced\": False,\n",
    "  \"parents\": (\"Rosi\",\"Steve\"),\n",
    "  \"pets\": None,\n",
    "  \"childrens\": [\n",
    "    {\"name\": \"Rosi\", \"age\": 20.2},\n",
    "    {\"name\": \"Steve\", \"age\": 17.5}\n",
    "  ]\n",
    "}\n",
    "\n",
    "print(json.dumps(x))"
   ]
  },
  {
   "cell_type": "code",
   "execution_count": 20,
   "id": "abstract-discount",
   "metadata": {},
   "outputs": [
    {
     "name": "stdout",
     "output_type": "stream",
     "text": [
      "{\n",
      "  \"name\": \"sam\",\n",
      "  \"age\": 55,\n",
      "  \"married\": true,\n",
      "  \"divorced\": false,\n",
      "  \"parents\": [\n",
      "    \"Rosi\",\n",
      "    \"Steve\"\n",
      "  ],\n",
      "  \"pets\": null,\n",
      "  \"children\": [\n",
      "    {\n",
      "      \"name\": \"Rosi\",\n",
      "      \"age\": 20.2\n",
      "    },\n",
      "    {\n",
      "      \"name\": \"Steve\",\n",
      "      \"age\": 17.5\n",
      "    }\n",
      "  ]\n",
      "}\n"
     ]
    }
   ],
   "source": [
    "# Format the Result\n",
    "# Allign data with 2 indents \n",
    "print(json.dumps(x, indent=2))"
   ]
  },
  {
   "cell_type": "code",
   "execution_count": 22,
   "id": "fifty-rebecca",
   "metadata": {},
   "outputs": [
    {
     "name": "stdout",
     "output_type": "stream",
     "text": [
      "{\n",
      "  \"name\" = \"sam\". \n",
      "  \"age\" = 55. \n",
      "  \"married\" = true. \n",
      "  \"divorced\" = false. \n",
      "  \"parents\" = [\n",
      "    \"Rosi\". \n",
      "    \"Steve\"\n",
      "  ]. \n",
      "  \"pets\" = null. \n",
      "  \"childrens\" = [\n",
      "    {\n",
      "      \"name\" = \"Rosi\". \n",
      "      \"age\" = 20.2\n",
      "    }. \n",
      "    {\n",
      "      \"name\" = \"Steve\". \n",
      "      \"age\" = 17.5\n",
      "    }\n",
      "  ]\n",
      "}\n"
     ]
    }
   ],
   "source": [
    "# default separators are , and :\n",
    "# change default separators from , to . and : to =\n",
    "print(json.dumps(x,indent=2,separators=(\". \", \" = \")))"
   ]
  },
  {
   "cell_type": "code",
   "execution_count": 23,
   "id": "spanish-denial",
   "metadata": {},
   "outputs": [
    {
     "name": "stdout",
     "output_type": "stream",
     "text": [
      "{\n",
      "  \"age\": 55,\n",
      "  \"childrens\": [\n",
      "    {\n",
      "      \"age\": 20.2,\n",
      "      \"name\": \"Rosi\"\n",
      "    },\n",
      "    {\n",
      "      \"age\": 17.5,\n",
      "      \"name\": \"Steve\"\n",
      "    }\n",
      "  ],\n",
      "  \"divorced\": false,\n",
      "  \"married\": true,\n",
      "  \"name\": \"sam\",\n",
      "  \"parents\": [\n",
      "    \"Rosi\",\n",
      "    \"Steve\"\n",
      "  ],\n",
      "  \"pets\": null\n",
      "}\n"
     ]
    }
   ],
   "source": [
    "# sort the results\n",
    "print(json.dumps(x, indent=2, sort_keys=True))"
   ]
  },
  {
   "cell_type": "code",
   "execution_count": null,
   "id": "ranking-colorado",
   "metadata": {},
   "outputs": [],
   "source": []
  }
 ],
 "metadata": {
  "kernelspec": {
   "display_name": "Python 3",
   "language": "python",
   "name": "python3"
  },
  "language_info": {
   "codemirror_mode": {
    "name": "ipython",
    "version": 3
   },
   "file_extension": ".py",
   "mimetype": "text/x-python",
   "name": "python",
   "nbconvert_exporter": "python",
   "pygments_lexer": "ipython3",
   "version": "3.9.1"
  }
 },
 "nbformat": 4,
 "nbformat_minor": 5
}
